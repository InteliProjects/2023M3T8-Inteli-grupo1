{
 "cells": [
  {
   "attachments": {},
   "cell_type": "markdown",
   "metadata": {},
   "source": [
    "Este modelo cria 2 listas, uma com as métricas de lifestyle e superfit da empresa e outra com as métricas de lifestyle e superfit do candidato. A partir disto ele calcula a similaridade por cosseno tanto dos valores da empresa quanto dos candidatos e retorna os valores com os maiores indíces de similaridade por cosseno."
   ]
  },
  {
   "cell_type": "code",
   "execution_count": null,
   "metadata": {},
   "outputs": [],
   "source": [
    "#Import das bibliotecas\n",
    "import pandas as pd\n",
    "import numpy as np\n",
    "import matplotlib.pyplot as plt\n",
    "from sklearn.preprocessing import StandardScaler\n",
    "from sklearn.model_selection import train_test_split\n",
    "from sklearn.metrics import accuracy_score, confusion_matrix, f1_score\n",
    "from sklearn.cluster import KMeans\n",
    "import scipy.cluster.hierarchy as sch   \n",
    "from sklearn.metrics.pairwise import cosine_similarity"
   ]
  },
  {
   "cell_type": "code",
   "execution_count": 6,
   "metadata": {},
   "outputs": [
    {
     "name": "stdout",
     "output_type": "stream",
     "text": [
      "    user_id  job_opportunity_id     match\n",
      "0   1055906              2796.0  0.962743\n",
      "1   1055906              2888.0  0.958633\n",
      "2   1055906              2801.0  0.955456\n",
      "3   1055906              2698.0  0.953710\n",
      "4   1055906              2686.0  0.953295\n",
      "5   1055906              2851.0  0.953295\n",
      "6   1055906              2848.0  0.948025\n",
      "7   1055906              2928.0  0.942937\n",
      "8   1055906              2883.0  0.940893\n",
      "9   1055906              2709.0  0.937787\n",
      "10  1055906              2748.0  0.936881\n",
      "11  1055906              2918.0  0.935843\n",
      "12  1055906              2800.0  0.934020\n",
      "13  1055906              2960.0  0.927264\n",
      "14  1055906              2924.0  0.925625\n",
      "15  1055906              2696.0  0.923498\n",
      "16  1055906              2743.0  0.923219\n",
      "17  1055906              2674.0  0.922936\n",
      "18  1055906              2817.0  0.921396\n",
      "19  1055906              2849.0  0.917285\n"
     ]
    }
   ],
   "source": [
    "# Criação modelo similaridade de cosseno\n",
    "\n",
    "datauser = pd.read_csv('NORM_JUNCAO_USER.csv') # Le o csv com os dados do candidato\n",
    "datajob = pd.read_csv('NORM_JUNCAO_JOB.csv') # Le o csv com os dados das vagas\n",
    "\n",
    "def recommend_companies(user_id, datauser, datajob, top_n):\n",
    "    # Selecionar o usuário\n",
    "    user = datauser[datauser['id'] == user_id]\n",
    "    \n",
    "    # Definir as métricas de superfit e lifestyle para o usuário e a empresa\n",
    "    superfit_metrics = ['dis', 'sin', 'cur', 'int', 'eng', 'res']\n",
    "    lifestyle_metrics = ['classic', 'order', 'change', 'tireless', 'explorer', 'specialist', 'generalist']\n",
    "    \n",
    "    superfit_user_metrics = ['superfit_' + metric for metric in superfit_metrics] # Cria uma lista com as métricas de superfit do usuário\n",
    "    lifestyle_user_metrics = ['lifestyle_' + metric for metric in lifestyle_metrics] # Cria uma lista com as métricas de lifestyle do usuário\n",
    "    \n",
    "    superfit_job_metrics = ['score_' + metric for metric in superfit_metrics] # Cria uma lista com as métricas de superfit da empresa\n",
    "    lifestyle_job_metrics = ['score_' + metric for metric in lifestyle_metrics] # Cria uma lista com as métricas de lifestyle da empresa\n",
    "    \n",
    "    # Calcular a similaridade de cosseno entre o usuário e todas as empresas\n",
    "    user_superfit_lifestyle = datauser[superfit_user_metrics + lifestyle_user_metrics] # Cria um dataframe com as métricas de superfit e lifestyle do usuário\n",
    "    job_superfit_lifestyle = datajob[superfit_job_metrics + lifestyle_job_metrics] # Cria um dataframe com as métricas de superfit e lifestyle da empresa\n",
    "    \n",
    "    similarity_scores = cosine_similarity(user_superfit_lifestyle, job_superfit_lifestyle) # Calcula a similaridade de cosseno entre o usuário e todas as empresas\n",
    "    \n",
    "    # Obter os índices das empresas com as maiores pontuações de similaridade\n",
    "    top_company_indices = similarity_scores[0].argsort()[-top_n:][::-1]\n",
    "    \n",
    "    # Extrair informações relevantes\n",
    "    recommendations = []\n",
    "    for index in top_company_indices:\n",
    "        # Adicionar o id da empresa, o id da vaga e a pontuação de similaridade\n",
    "        recommendations.append({\n",
    "            \"user_id\": user_id,\n",
    "            \"job_opportunity_id\": datajob.iloc[index]['job_opportunity_id'],\n",
    "            \"match\": similarity_scores[0][index]\n",
    "        })\n",
    "    \n",
    "    return pd.DataFrame(recommendations)\n",
    "id = int(input('Digite o id do usuário: '))\n",
    "numero = int(input('Digite o número de recomendações: '))\n",
    "print(recommend_companies(id, datauser, datajob, numero)) "
   ]
  }
 ],
 "metadata": {
  "kernelspec": {
   "display_name": "Python 3",
   "language": "python",
   "name": "python3"
  },
  "language_info": {
   "codemirror_mode": {
    "name": "ipython",
    "version": 3
   },
   "file_extension": ".py",
   "mimetype": "text/x-python",
   "name": "python",
   "nbconvert_exporter": "python",
   "pygments_lexer": "ipython3",
   "version": "3.10.11"
  },
  "orig_nbformat": 4
 },
 "nbformat": 4,
 "nbformat_minor": 2
}
